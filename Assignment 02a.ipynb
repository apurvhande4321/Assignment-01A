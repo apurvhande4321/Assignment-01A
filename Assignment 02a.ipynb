{
 "cells": [
  {
   "cell_type": "markdown",
   "id": "d6f65182",
   "metadata": {},
   "source": [
    "Q-01) Write a Python program to get a list, sorted in increasing order by the last element in each tuple from a given list of non-empty tuple\n"
   ]
  },
  {
   "cell_type": "code",
   "execution_count": 7,
   "id": "3309be0c",
   "metadata": {},
   "outputs": [
    {
     "name": "stdout",
     "output_type": "stream",
     "text": [
      "[(2, 1), (1, 2), (2, 3), (4, 4), (2, 5)]\n"
     ]
    }
   ],
   "source": [
    "def num(n): \n",
    "    return n[-1]\n",
    "\n",
    "def x(value):\n",
    "    return sorted(value, key=num)\n",
    "\n",
    "print(x([(2, 5), (1, 2), (4, 4), (2, 3), (2, 1)]))"
   ]
  },
  {
   "cell_type": "code",
   "execution_count": null,
   "id": "add8fa80",
   "metadata": {},
   "outputs": [],
   "source": []
  }
 ],
 "metadata": {
  "kernelspec": {
   "display_name": "Python 3 (ipykernel)",
   "language": "python",
   "name": "python3"
  },
  "language_info": {
   "codemirror_mode": {
    "name": "ipython",
    "version": 3
   },
   "file_extension": ".py",
   "mimetype": "text/x-python",
   "name": "python",
   "nbconvert_exporter": "python",
   "pygments_lexer": "ipython3",
   "version": "3.9.7"
  }
 },
 "nbformat": 4,
 "nbformat_minor": 5
}
